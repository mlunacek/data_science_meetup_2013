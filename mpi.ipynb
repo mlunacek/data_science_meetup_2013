{
 "metadata": {
  "name": ""
 },
 "nbformat": 3,
 "nbformat_minor": 0,
 "worksheets": [
  {
   "cells": [
    {
     "cell_type": "markdown",
     "metadata": {},
     "source": [
      "## Many-task computing with MPI"
     ]
    },
    {
     "cell_type": "code",
     "collapsed": false,
     "input": [
      "import subprocess\n",
      "import signal\n",
      "import os"
     ],
     "language": "python",
     "metadata": {},
     "outputs": []
    },
    {
     "cell_type": "markdown",
     "metadata": {},
     "source": [
      "###Quick Example\n",
      "- Executes 360 tasks that each take 1 - 2 sec\n",
      "- Uses 36 processors\n",
      "- 1.5 sec $\\cdot$ 10 tasks $=$ 15 seconds"
     ]
    },
    {
     "cell_type": "code",
     "collapsed": false,
     "input": [
      "mpicmd = 'mpirun -mca btl ^openib -np 36 python mpi_dynamic.py -l 1 -u 2'\n",
      "mpi = subprocess.Popen(mpicmd, \n",
      "                       shell=True, \n",
      "                       stdout=subprocess.PIPE, \n",
      "                       stderr=subprocess.PIPE)"
     ],
     "language": "python",
     "metadata": {},
     "outputs": []
    },
    {
     "cell_type": "code",
     "collapsed": false,
     "input": [
      "mpi.wait()\n",
      "stdout, stderr = mpi.communicate()\n",
      "print stdout"
     ],
     "language": "python",
     "metadata": {},
     "outputs": []
    },
    {
     "cell_type": "markdown",
     "metadata": {},
     "source": [
      "###What if an MPI task fails?\n",
      "- Increase task time to 30 seconds\n",
      "- Kill a process"
     ]
    },
    {
     "cell_type": "code",
     "collapsed": false,
     "input": [
      "import subprocess\n",
      "mpicmd = 'mpirun -mca btl ^openib -np 36 python mpi_dynamic.py -l 20 -u 40'\n",
      "mpi = subprocess.Popen(mpicmd, \n",
      "                       shell=True, \n",
      "                       stdout=subprocess.PIPE, \n",
      "                       stderr=subprocess.PIPE)"
     ],
     "language": "python",
     "metadata": {},
     "outputs": []
    },
    {
     "cell_type": "markdown",
     "metadata": {},
     "source": [
      "Get the children of the mpi command."
     ]
    },
    {
     "cell_type": "code",
     "collapsed": false,
     "input": [
      "procmd = \"ps -o pid --ppid %d --noheaders\" % mpi.pid\n",
      "pro = subprocess.Popen(procmd, \n",
      "                        shell=True, \n",
      "                        stdout=subprocess.PIPE, \n",
      "                        stderr=subprocess.PIPE)\n",
      "pro.wait()\n",
      "stdout, stderr = pro.communicate()\n",
      "print stdout.split('\\n')"
     ],
     "language": "python",
     "metadata": {},
     "outputs": []
    },
    {
     "cell_type": "markdown",
     "metadata": {},
     "source": [
      "Kill a process on the master node (e.g. mother superior)"
     ]
    },
    {
     "cell_type": "code",
     "collapsed": false,
     "input": [
      "tmp_pid = stdout.split('\\n')[3]\n",
      "print tmp_pid\n",
      "os.kill(int(tmp_pid), signal.SIGTERM)\n",
      "\n",
      "stdout, stderr = mpi.communicate()\n",
      "print stderr"
     ],
     "language": "python",
     "metadata": {},
     "outputs": []
    },
    {
     "cell_type": "markdown",
     "metadata": {},
     "source": [
      "One task dies, they all die."
     ]
    }
   ],
   "metadata": {}
  }
 ]
}