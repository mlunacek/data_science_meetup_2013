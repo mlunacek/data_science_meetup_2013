{
 "metadata": {
  "name": ""
 },
 "nbformat": 3,
 "nbformat_minor": 0,
 "worksheets": [
  {
   "cells": [
    {
     "cell_type": "markdown",
     "metadata": {},
     "source": [
      "## Multiprocessing Example"
     ]
    },
    {
     "cell_type": "code",
     "collapsed": false,
     "input": [
      "import time\n",
      "import datetime"
     ],
     "language": "python",
     "metadata": {},
     "outputs": []
    },
    {
     "cell_type": "markdown",
     "metadata": {},
     "source": [
      "Define a function that represents some work."
     ]
    },
    {
     "cell_type": "code",
     "collapsed": false,
     "input": [
      "def work(x):\n",
      "    start_time = datetime.datetime.now()\n",
      "    time.sleep(x)\n",
      "    end_time = datetime.datetime.now()\n",
      "    return {'start': start_time, 'end_time': end_time}"
     ],
     "language": "python",
     "metadata": {},
     "outputs": []
    },
    {
     "cell_type": "markdown",
     "metadata": {},
     "source": [
      "I want to call this several times."
     ]
    },
    {
     "cell_type": "code",
     "collapsed": false,
     "input": [
      "import numpy as np"
     ],
     "language": "python",
     "metadata": {},
     "outputs": []
    },
    {
     "cell_type": "code",
     "collapsed": false,
     "input": [
      "np.random.seed(1045)\n",
      "job_times = np.random.uniform(0.1, 0.2, 100)"
     ],
     "language": "python",
     "metadata": {},
     "outputs": []
    },
    {
     "cell_type": "markdown",
     "metadata": {},
     "source": [
      "###`map`"
     ]
    },
    {
     "cell_type": "code",
     "collapsed": false,
     "input": [
      "tic = time.time()\n",
      "results = map(work, job_times)\n",
      "print time.time() - tic, len(results)"
     ],
     "language": "python",
     "metadata": {},
     "outputs": []
    },
    {
     "cell_type": "markdown",
     "metadata": {},
     "source": [
      "## Quick and fast parallelism"
     ]
    },
    {
     "cell_type": "markdown",
     "metadata": {},
     "source": [
      "Let's speed things up!"
     ]
    },
    {
     "cell_type": "code",
     "collapsed": false,
     "input": [
      "import multiprocessing"
     ],
     "language": "python",
     "metadata": {},
     "outputs": []
    },
    {
     "cell_type": "markdown",
     "metadata": {},
     "source": [
      "Create a group of workers (`Pool`)"
     ]
    },
    {
     "cell_type": "code",
     "collapsed": false,
     "input": [
      "num_cores = multiprocessing.cpu_count()\n",
      "pool = multiprocessing.Pool(num_cores)\n",
      "print num_cores"
     ],
     "language": "python",
     "metadata": {},
     "outputs": []
    },
    {
     "cell_type": "code",
     "collapsed": false,
     "input": [
      "tic = time.time()\n",
      "results = pool.map(work,job_times)\n",
      "print time.time() - tic, len(results)"
     ],
     "language": "python",
     "metadata": {},
     "outputs": []
    },
    {
     "cell_type": "markdown",
     "metadata": {},
     "source": [
      "We went from 14.7 seconds to 1.4 seconds.  \n",
      "\n",
      "How easy was that!\n",
      "\n",
      "- zero installation\n",
      "- Added one `import`\n",
      "- Added two lines of code (which could be one)\n",
      "- Added a `pool` in front of my `map`"
     ]
    },
    {
     "cell_type": "code",
     "collapsed": false,
     "input": [],
     "language": "python",
     "metadata": {},
     "outputs": []
    }
   ],
   "metadata": {}
  }
 ]
}