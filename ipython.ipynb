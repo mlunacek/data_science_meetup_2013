{
 "metadata": {
  "name": ""
 },
 "nbformat": 3,
 "nbformat_minor": 0,
 "worksheets": [
  {
   "cells": [
    {
     "cell_type": "markdown",
     "metadata": {},
     "source": [
      "##Many-task computing with IPython Parallel"
     ]
    },
    {
     "cell_type": "code",
     "collapsed": false,
     "input": [
      "from IPython.parallel import Client\n",
      "import numpy as np"
     ],
     "language": "python",
     "metadata": {},
     "outputs": []
    },
    {
     "cell_type": "markdown",
     "metadata": {},
     "source": [
      "### Function\n",
      "- Sleeps for x seconds\n",
      "- Returns time information and pid information"
     ]
    },
    {
     "cell_type": "code",
     "collapsed": false,
     "input": [
      "def work(x):\n",
      "    import time, os\n",
      "    start_time = time.time()\n",
      "    time.sleep(x)\n",
      "    end_time = time.time()\n",
      "    return {'pid': os.getpid(), \n",
      "            'start_time': start_time, \n",
      "            'end_time': end_time}"
     ],
     "language": "python",
     "metadata": {},
     "outputs": []
    },
    {
     "cell_type": "markdown",
     "metadata": {},
     "source": [
      "### List of tasks\n",
      "- 100 tasks\n",
      "- Uniform distribution between 1 and 2 sec"
     ]
    },
    {
     "cell_type": "code",
     "collapsed": false,
     "input": [
      "num_workers = 36\n",
      "np.random.seed(1045)\n",
      "job_times = np.random.uniform(1,3, num_workers*10)"
     ],
     "language": "python",
     "metadata": {},
     "outputs": []
    },
    {
     "cell_type": "markdown",
     "metadata": {},
     "source": [
      "Expected duration on a single CPU"
     ]
    },
    {
     "cell_type": "code",
     "collapsed": false,
     "input": [
      "print np.mean(job_times)*len(job_times)/num_workers"
     ],
     "language": "python",
     "metadata": {},
     "outputs": []
    },
    {
     "cell_type": "markdown",
     "metadata": {},
     "source": [
      "## IPython\n",
      "\n",
      "Start the engines"
     ]
    },
    {
     "cell_type": "code",
     "collapsed": false,
     "input": [
      "import subprocess\n",
      "\n",
      "cmd = 'ipcluster start --profile=ssh'\n",
      "tmp = subprocess.Popen(cmd, \n",
      "                 shell=True, \n",
      "                 stdout=subprocess.PIPE, \n",
      "                 stderr=subprocess.PIPE)"
     ],
     "language": "python",
     "metadata": {},
     "outputs": []
    },
    {
     "cell_type": "markdown",
     "metadata": {},
     "source": [
      "Create the `Client`\n",
      "- May need to wait a minute"
     ]
    },
    {
     "cell_type": "code",
     "collapsed": false,
     "input": [
      "rc = Client(profile='ssh')\n",
      "print len(rc.ids)"
     ],
     "language": "python",
     "metadata": {},
     "outputs": []
    },
    {
     "cell_type": "code",
     "collapsed": false,
     "input": [
      "lview = rc.load_balanced_view()"
     ],
     "language": "python",
     "metadata": {},
     "outputs": []
    },
    {
     "cell_type": "markdown",
     "metadata": {},
     "source": [
      "`map` the `job_times` list onto the `work` function"
     ]
    },
    {
     "cell_type": "code",
     "collapsed": false,
     "input": [
      "import time\n",
      "start = time.time()\n",
      "results = lview.map(work, job_times)\n",
      "results.wait()\n",
      "print time.time() - start"
     ],
     "language": "python",
     "metadata": {},
     "outputs": []
    },
    {
     "cell_type": "markdown",
     "metadata": {},
     "source": [
      "###What does this look like?"
     ]
    },
    {
     "cell_type": "code",
     "collapsed": false,
     "input": [
      "import matplotlib.pyplot as plt\n",
      "import pandas as pd\n",
      "\n",
      "def create_plot(results):\n",
      "    res = pd.DataFrame(results)\n",
      "    res.to_csv('results.csv', index=False)\n",
      "    rank_map = {}\n",
      "    for index, pid in enumerate(res['pid'].unique()):\n",
      "        rank_map[pid] = index\n",
      "\n",
      "    num_engines = len(res.groupby('pid').size())\n",
      "    tmax = int(res['start_time'].max())\n",
      "    fig, ax = plt.subplots(figsize=(10, 8))\n",
      "        \n",
      "    tmin = res['start_time'].min()  \n",
      "    tmax = res['end_time'].max() - tmin\n",
      "    for i in res.index:\n",
      "        x_start = res.ix[i]['start_time'] - tmin\n",
      "        x_end = res.ix[i]['end_time'] - tmin - x_start\n",
      "        x_id = float(res.ix[i]['pid'])\n",
      "        x_id = rank_map[x_id]/float(num_engines)\n",
      "        ax.add_patch(plt.Rectangle((x_start, x_id),x_end,0.03,alpha=0.75, color='#8e8eb6'))\n",
      "    ax.set_xlim(0, tmax)\n",
      "    ax.set_ylabel(\"Worker\")\n",
      "    ax.set_xlabel(\"seconds\")"
     ],
     "language": "python",
     "metadata": {},
     "outputs": []
    },
    {
     "cell_type": "code",
     "collapsed": false,
     "input": [
      "create_plot(results.get())"
     ],
     "language": "python",
     "metadata": {},
     "outputs": []
    },
    {
     "cell_type": "markdown",
     "metadata": {},
     "source": [
      "## Fault-tolerance"
     ]
    },
    {
     "cell_type": "code",
     "collapsed": false,
     "input": [
      "def get_engine_info():\n",
      "    import os, socket\n",
      "    return {'hostname': socket.gethostname(), 'pid': os.getpid()}"
     ],
     "language": "python",
     "metadata": {},
     "outputs": []
    },
    {
     "cell_type": "code",
     "collapsed": false,
     "input": [
      "import socket\n",
      "\n",
      "dv = rc[:]\n",
      "engine_info = dv.apply_sync(get_engine_info)\n",
      "\n",
      "engine_pids = []\n",
      "for x in engine_info:\n",
      "    if x['hostname'] == socket.gethostname():\n",
      "        engine_pids.append(x['pid'])\n",
      "        \n",
      "print len(engine_pids), engine_pids"
     ],
     "language": "python",
     "metadata": {},
     "outputs": []
    },
    {
     "cell_type": "markdown",
     "metadata": {},
     "source": [
      "`map` the `job_times` list onto the `work` function.  Kill a few engines."
     ]
    },
    {
     "cell_type": "code",
     "collapsed": false,
     "input": [
      "import os, signal\n",
      "\n",
      "start = time.time()\n",
      "\n",
      "lview.retries=1\n",
      "results = lview.map(work, job_times)\n",
      "\n",
      "\n",
      "#kill an engine...\n",
      "time.sleep(5)\n",
      "os.kill(int(engine_pids[1]), signal.SIGTERM)\n",
      "\n",
      "results.wait()\n",
      "print len(rc.ids), len(results.get()), len(job_times)\n",
      "print time.time() - start"
     ],
     "language": "python",
     "metadata": {},
     "outputs": []
    },
    {
     "cell_type": "code",
     "collapsed": false,
     "input": [
      "create_plot(results.get())"
     ],
     "language": "python",
     "metadata": {},
     "outputs": []
    }
   ],
   "metadata": {}
  }
 ]
}